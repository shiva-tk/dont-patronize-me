{
 "cells": [
  {
   "cell_type": "markdown",
   "metadata": {},
   "source": [
    "# Dataset Analysis\n",
    "In this notebook, we analyse properties of the \"Don't Patronise Me!\" dataset."
   ]
  },
  {
   "cell_type": "code",
   "execution_count": 1,
   "metadata": {},
   "outputs": [],
   "source": [
    "import pandas as pd\n",
    "import matplotlib.pyplot as plt\n",
    "import numpy as np"
   ]
  },
  {
   "cell_type": "code",
   "execution_count": 2,
   "metadata": {},
   "outputs": [
    {
     "data": {
      "text/html": [
       "<div>\n",
       "<style scoped>\n",
       "    .dataframe tbody tr th:only-of-type {\n",
       "        vertical-align: middle;\n",
       "    }\n",
       "\n",
       "    .dataframe tbody tr th {\n",
       "        vertical-align: top;\n",
       "    }\n",
       "\n",
       "    .dataframe thead th {\n",
       "        text-align: right;\n",
       "    }\n",
       "</style>\n",
       "<table border=\"1\" class=\"dataframe\">\n",
       "  <thead>\n",
       "    <tr style=\"text-align: right;\">\n",
       "      <th></th>\n",
       "      <th>par_id</th>\n",
       "      <th>art_id</th>\n",
       "      <th>keyword</th>\n",
       "      <th>country_code</th>\n",
       "      <th>text</th>\n",
       "      <th>label</th>\n",
       "    </tr>\n",
       "  </thead>\n",
       "  <tbody>\n",
       "    <tr>\n",
       "      <th>0</th>\n",
       "      <td>1</td>\n",
       "      <td>@@24942188</td>\n",
       "      <td>hopeless</td>\n",
       "      <td>ph</td>\n",
       "      <td>We 're living in times of absolute insanity , ...</td>\n",
       "      <td>0</td>\n",
       "    </tr>\n",
       "    <tr>\n",
       "      <th>1</th>\n",
       "      <td>2</td>\n",
       "      <td>@@21968160</td>\n",
       "      <td>migrant</td>\n",
       "      <td>gh</td>\n",
       "      <td>In Libya today , there are countless number of...</td>\n",
       "      <td>0</td>\n",
       "    </tr>\n",
       "    <tr>\n",
       "      <th>2</th>\n",
       "      <td>3</td>\n",
       "      <td>@@16584954</td>\n",
       "      <td>immigrant</td>\n",
       "      <td>ie</td>\n",
       "      <td>White House press secretary Sean Spicer said t...</td>\n",
       "      <td>0</td>\n",
       "    </tr>\n",
       "    <tr>\n",
       "      <th>3</th>\n",
       "      <td>4</td>\n",
       "      <td>@@7811231</td>\n",
       "      <td>disabled</td>\n",
       "      <td>nz</td>\n",
       "      <td>Council customers only signs would be displaye...</td>\n",
       "      <td>0</td>\n",
       "    </tr>\n",
       "    <tr>\n",
       "      <th>4</th>\n",
       "      <td>5</td>\n",
       "      <td>@@1494111</td>\n",
       "      <td>refugee</td>\n",
       "      <td>ca</td>\n",
       "      <td>\" Just like we received migrants fleeing El Sa...</td>\n",
       "      <td>0</td>\n",
       "    </tr>\n",
       "  </tbody>\n",
       "</table>\n",
       "</div>"
      ],
      "text/plain": [
       "   par_id      art_id    keyword country_code  \\\n",
       "0       1  @@24942188   hopeless           ph   \n",
       "1       2  @@21968160    migrant           gh   \n",
       "2       3  @@16584954  immigrant           ie   \n",
       "3       4   @@7811231   disabled           nz   \n",
       "4       5   @@1494111    refugee           ca   \n",
       "\n",
       "                                                text  label  \n",
       "0  We 're living in times of absolute insanity , ...      0  \n",
       "1  In Libya today , there are countless number of...      0  \n",
       "2  White House press secretary Sean Spicer said t...      0  \n",
       "3  Council customers only signs would be displaye...      0  \n",
       "4  \" Just like we received migrants fleeing El Sa...      0  "
      ]
     },
     "metadata": {},
     "output_type": "display_data"
    }
   ],
   "source": [
    "df = pd.read_csv(\"data/complete.csv\")\n",
    "display(df.head())"
   ]
  },
  {
   "cell_type": "markdown",
   "metadata": {},
   "source": [
    "## Label Distribution\n",
    "We explore the distribution of positive and negative samples within our dataset."
   ]
  },
  {
   "cell_type": "code",
   "execution_count": 3,
   "metadata": {},
   "outputs": [
    {
     "name": "stdout",
     "output_type": "stream",
     "text": [
      "\n",
      "=== Distribution of labels ===\n",
      "label\n",
      "0    9476\n",
      "1     993\n",
      "Name: count, dtype: int64\n"
     ]
    },
    {
     "data": {
      "image/png": "[encoded data removed]",
      "text/plain": [
       "<Figure size 400x400 with 1 Axes>"
      ]
     },
     "metadata": {},
     "output_type": "display_data"
    }
   ],
   "source": [
    "label_counts = df[\"label\"].value_counts()\n",
    "print(\"\\n=== Distribution of labels ===\")\n",
    "print(label_counts)\n",
    "\n",
    "# Plot a bar chart for numeric_label distribution\n",
    "plt.figure(figsize=(4, 4))\n",
    "label_counts.plot(kind='bar')\n",
    "plt.title(\"Distribution of labels\")\n",
    "plt.xlabel(\"label\")\n",
    "plt.ylabel(\"Count\")\n",
    "plt.show()"
   ]
  },
  {
   "cell_type": "markdown",
   "metadata": {},
   "source": [
    "We find that there is a large imbalance between positive and negative samples, within the dataset."
   ]
  },
  {
   "cell_type": "markdown",
   "metadata": {},
   "source": [
    "## Keyword\n",
    "The keyword column represents the community that the patronizing or condescending language is targeted at.\n",
    "We explore how the positive and negative samples within the dataset correlate with this keyword classification."
   ]
  },
  {
   "cell_type": "code",
   "execution_count": 4,
   "metadata": {},
   "outputs": [
    {
     "name": "stdout",
     "output_type": "stream",
     "text": [
      "=== Class Distribution (Keyword) ===\n",
      "keyword\n",
      "migrant          1089\n",
      "in-need          1082\n",
      "vulnerable       1080\n",
      "homeless         1077\n",
      "women            1070\n",
      "refugee          1068\n",
      "immigrant        1061\n",
      "disabled         1028\n",
      "hopeless         1005\n",
      "poor-families     909\n",
      "Name: count, dtype: int64\n",
      "\n",
      "=== Percentage Distribution (Keyword) ===\n",
      "keyword\n",
      "migrant          10.402140\n",
      "in-need          10.335276\n",
      "vulnerable       10.316172\n",
      "homeless         10.287516\n",
      "women            10.220651\n",
      "refugee          10.201547\n",
      "immigrant        10.134683\n",
      "disabled          9.819467\n",
      "hopeless          9.599771\n",
      "poor-families     8.682778\n",
      "Name: count, dtype: float64\n"
     ]
    },
    {
     "data": {
      "image/png": "[encoded data removed]",
      "text/plain": [
       "<Figure size 800x400 with 1 Axes>"
      ]
     },
     "metadata": {},
     "output_type": "display_data"
    }
   ],
   "source": [
    "keyword_counts = df[\"keyword\"].value_counts()\n",
    "print(\"=== Class Distribution (Keyword) ===\")\n",
    "print(keyword_counts)\n",
    "\n",
    "# Convert to percentages\n",
    "keyword_percentages = keyword_counts / keyword_counts.sum() * 100\n",
    "print(\"\\n=== Percentage Distribution (Keyword) ===\")\n",
    "print(keyword_percentages)\n",
    "\n",
    "# OPTIONAL: Plot a bar chart for the text_label distribution\n",
    "plt.figure(figsize=(8, 4))\n",
    "keyword_counts.plot(kind='bar')\n",
    "plt.title(\"Distribution of keyword\")\n",
    "plt.xlabel(\"Keyword\")\n",
    "plt.ylabel(\"Count\")\n",
    "plt.show()"
   ]
  },
  {
   "cell_type": "markdown",
   "metadata": {},
   "source": [
    "First, we note that there is a roughly uniform distribution of keyword tags within the dataset.\n",
    "This is desirable, as it allows us to effectively train our model on PCL in different contexts.\n",
    "\n",
    "We now look for a correlation between this keyword classification and whether the sample has been flagged for PCL."
   ]
  },
  {
   "cell_type": "code",
   "execution_count": 5,
   "metadata": {},
   "outputs": [
    {
     "name": "stdout",
     "output_type": "stream",
     "text": [
      "label             0    1\n",
      "keyword                 \n",
      "disabled        947   81\n",
      "homeless        899  178\n",
      "hopeless        881  124\n",
      "immigrant      1031   30\n",
      "in-need         906  176\n",
      "migrant        1053   36\n",
      "poor-families   759  150\n",
      "refugee         982   86\n",
      "vulnerable     1000   80\n",
      "women          1018   52\n"
     ]
    }
   ],
   "source": [
    "label_counts = df.groupby([\"keyword\", \"label\"]).size().unstack(fill_value=0)\n",
    "print(label_counts)"
   ]
  },
  {
   "cell_type": "code",
   "execution_count": 6,
   "metadata": {},
   "outputs": [
    {
     "name": "stdout",
     "output_type": "stream",
     "text": [
      "Chi-square statistic: 322.75998365227304, p-value: 3.844608400569222e-64\n"
     ]
    }
   ],
   "source": [
    "from scipy.stats import chi2_contingency\n",
    "\n",
    "# Create a contingency table\n",
    "contingency_table = pd.crosstab(df['keyword'], df['label'])\n",
    "\n",
    "# Perform the chi-square test\n",
    "chi2, p, dof, expected = chi2_contingency(contingency_table)\n",
    "\n",
    "print(f\"Chi-square statistic: {chi2}, p-value: {p}\")"
   ]
  },
  {
   "cell_type": "markdown",
   "metadata": {},
   "source": [
    "The p-value of less than 0.05 is significant. We reject the null hypothesis."
   ]
  },
  {
   "cell_type": "code",
   "execution_count": 7,
   "metadata": {},
   "outputs": [
    {
     "name": "stdout",
     "output_type": "stream",
     "text": [
      "Cramér’s V: 0.17558493149510715\n"
     ]
    }
   ],
   "source": [
    "def cramers_v(confusion_matrix):\n",
    "    chi2 = chi2_contingency(confusion_matrix)[0]\n",
    "    n = confusion_matrix.sum().sum()\n",
    "    r, k = confusion_matrix.shape\n",
    "    return np.sqrt(chi2 / (n * (min(r, k) - 1)))\n",
    "\n",
    "# Compute Cramér’s V\n",
    "cramers_v_value = cramers_v(contingency_table)\n",
    "print(f\"Cramér’s V: {cramers_v_value}\")"
   ]
  },
  {
   "cell_type": "markdown",
   "metadata": {},
   "source": [
    "However, Cramer's V score is low."
   ]
  },
  {
   "cell_type": "markdown",
   "metadata": {},
   "source": [
    "## Text Length\n",
    "Next we explore the text lengths of the samples, and look for correlation with the label."
   ]
  },
  {
   "cell_type": "code",
   "execution_count": 8,
   "metadata": {},
   "outputs": [
    {
     "name": "stdout",
     "output_type": "stream",
     "text": [
      "count    10469.000000\n",
      "mean        48.422581\n",
      "std         29.091174\n",
      "min          1.000000\n",
      "25%         30.000000\n",
      "50%         42.000000\n",
      "75%         60.000000\n",
      "max        909.000000\n",
      "Name: text_length, dtype: float64\n",
      "=== Text Length Statistics by text_label ===\n",
      "        count       mean        std  min   25%   50%   75%    max\n",
      "label                                                            \n",
      "0      9476.0  47.877902  28.624509  1.0  30.0  42.0  59.0  909.0\n",
      "1       993.0  53.620342  32.779995  6.0  33.0  47.0  67.0  512.0\n"
     ]
    },
    {
     "data": {
      "image/png": "[encoded data removed]",
      "text/plain": [
       "<Figure size 800x400 with 1 Axes>"
      ]
     },
     "metadata": {},
     "output_type": "display_data"
    }
   ],
   "source": [
    "df[\"text_length\"] = df[\"text\"].apply(lambda x: len(str(x).split()))  # word count\n",
    "# Alternatively: len(str(x)) for raw character count\n",
    "\n",
    "print(df[\"text_length\"].describe())\n",
    "\n",
    "# Now, compute average text length by 'text_label':\n",
    "length_by_label = df.groupby(\"label\")[\"text_length\"].describe()\n",
    "print(\"=== Text Length Statistics by text_label ===\")\n",
    "print(length_by_label)\n",
    "\n",
    "# OPTIONAL: Visualize average text length by text_label\n",
    "avg_length = df.groupby(\"label\")[\"text_length\"].mean()\n",
    "plt.figure(figsize=(8, 4))\n",
    "avg_length.plot(kind='bar')\n",
    "plt.title(\"Average Text Length by Label\")\n",
    "plt.xlabel(\"text_label\")\n",
    "plt.ylabel(\"Average Word Count\")\n",
    "plt.show()"
   ]
  },
  {
   "cell_type": "markdown",
   "metadata": {},
   "source": [
    "## Qualitative Analysis\n",
    "Finally, we draw random samples from both positive and negative classes, to qualitatively look at the difficulty of the task."
   ]
  },
  {
   "cell_type": "code",
   "execution_count": 9,
   "metadata": {},
   "outputs": [
    {
     "name": "stdout",
     "output_type": "stream",
     "text": [
      "\n",
      "=== Examples for label: '0' ===\n",
      "\" We going to have to make sure that the social chasm between Goodwin Park and Campion College is bridged , \" he declared . \" So many of our children from the inner city who do very well and go there experience hopeless social problems . \"\n",
      "\n",
      "More than once , a mentally ill homeless person showed up at the front door of the building , insisting that they either lived there or wanted to rent an apartment . The historic district of Rockville was a \" nice \" part of town in which you almost never saw people living on the street , so it was even stranger .\n",
      "\n",
      "Setting a hard-line tone on national security , President Donald Trump on Friday suspended the nation 's refugee program for four months , aiming to keep \" radical Islamic terrorists \" out of the United States .\n",
      "\n",
      "\" What rights holders can request be removed or disabled depends on the nature of the illegal content posted . It can vary from specific content within web pages , such as videos or logos , or on rare occasions entire websites . However , as has been shown in the Newzbin2 case in the UK , service providers are very reluctant to disable access to swathes of content unless a court orders them to do so . The Newzbin2 precedent was set following an expensive legal battle and was an action under the UK 's Copyright , Designs and Patents Act ( CDPA ) rather than the E-Commerce rules as a result , \" Anderson said .\n",
      "\n",
      "Protesters will embrace the thrillingly novel experience of being homeless in KL with homemade sandwiches . And once the rally is over , organisers will claim that seven billion people attended it and that 's why Najib must step down .\n",
      "\n",
      "Raising the nutrition level of children aged from six months to six years in hardcore poor families .\n",
      "\n",
      "A group of women who gathered around the mother wept openly .\n",
      "\n",
      "Mr Trump was also considering an order preventing all refugees from entering the US for 120 days .\n",
      "\n",
      "By AGENCE FRANCE PRESSE , Brussels , Belgium , Aug 5 -- Fears are mounting in the European Union that its months-old pact with Turkey to curb migrant flows could collapse as a rift deepens over Ankara 's crackdown following a failed coup .\n",
      "\n",
      "Amri 's father told a radio station his son had left Tunisia seven years ago as an illegal immigrant .\n",
      "\n",
      "\n",
      "=== Examples for label: '1' ===\n",
      "The charity has a number of success stories where people have been homeless and are now leading happy lives in employment .\n",
      "\n",
      "He was born HIV-positive . He 's healthy , but when Sasha met him , volunteering at an orphanage , he weighed half as much as a 3&amp;#xBD ; year-old boy should , and his hair was falling out . The only word he knew was Russian for \" Do n't do that . \" The nurses told Sasha not to touch him . Not because of the HIV . It was love they were concerned with . If he received any , he 'd want more , and none would be forthcoming . He was aging out of the ward , and now they were going to send him to another one , more hopeless still , where he would be thrown in with lost causes of all ages . And there he would remain , as long as he remained .\n",
      "\n",
      "They discounted and denied every conceivable poll which showed Jonathan losing the election , preaching that Nigerians wanted continuity , not the change the opposition advocated . The people of Nigeria were portrayed as somehow loving their poverty and insecurity , their darkness and weakness , hopelessness and joblessness .\n",
      "\n",
      "Departing from his prepared remarks , Francis shared his experiences of the day earlier with thousands of people gathered for his blessing . He says among the 300 refugees he greeted Saturday on Lesbos was a Syrian widower with two children .\n",
      "\n",
      "UN app lets you know what life as a refugee is like\n",
      "\n",
      "Dole , France -- French baker Michel Flamant , who owes his life to the homeless man who begged for handouts outside his bakery , knows more than anyone that man does not live by bread alone .\n",
      "\n",
      "\" When I started , there were hardly any women in business . Today we have women leading fields in the government and corporate sector who are doing very well . I also know that WCIC is helping women in need to build up their lives and to start businesses . I wish them the best , and I thank WCIC for the awards , \" said Mrs. Pestonjee .\n",
      "\n",
      "\" This sacred time reminds us of our common obligations to uphold the dignity of every human being . We will continue to welcome immigrants and refugees into our nation , including those who are Muslim , \" he added .\n",
      "\n",
      "Coming from a home that faced financial hardship , Father Campbell is always out to implement projects which help bring smiles to the faces of people who are in need .\n",
      "\n",
      "\" This system appears designed to make Rohingyas ' lives as hopeless and humiliating as possible , \" Neistat added in the note , describing the military campaign as \" ethnic cleansing \" .\n",
      "\n"
     ]
    }
   ],
   "source": [
    "def show_random_examples(df, label_col, n=5):\n",
    "    unique_labels = df[label_col].unique()\n",
    "    for lbl in unique_labels:\n",
    "        subset = df[df[label_col] == lbl]\n",
    "        if len(subset) > 0:\n",
    "            print(f\"\\n=== Examples for label: '{lbl}' ===\")\n",
    "            samples = subset.sample(min(n, len(subset)))[[\"keyword\", \"text\", \"label\"]]\n",
    "            for sample in samples['text']:\n",
    "                print(sample)\n",
    "                print()\n",
    "\n",
    "show_random_examples(df, \"label\", n=10)"
   ]
  }
 ],
 "metadata": {
  "kernelspec": {
   "display_name": "Python 3 (ipykernel)",
   "language": "python",
   "name": "python3"
  },
  "language_info": {
   "codemirror_mode": {
    "name": "ipython",
    "version": 3
   },
   "file_extension": ".py",
   "mimetype": "text/x-python",
   "name": "python",
   "nbconvert_exporter": "python",
   "pygments_lexer": "ipython3",
   "version": "3.13.2"
  }
 },
 "nbformat": 4,
 "nbformat_minor": 4
}
