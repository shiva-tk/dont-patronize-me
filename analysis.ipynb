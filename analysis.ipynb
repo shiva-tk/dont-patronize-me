{
 "cells": [
  {
   "cell_type": "markdown",
   "id": "84302e6f-95cf-4639-8cdd-d4f4a5e2f95f",
   "metadata": {},
   "source": [
    "# Final Model Analysis\n",
    "In this notebook, we perform analysis on the output of the final model. In particular, we analyse the model predictions of the official dev set."
   ]
  },
  {
   "cell_type": "code",
   "execution_count": 24,
   "id": "9ac29e83-6787-4326-b83a-ef8b75beb6ba",
   "metadata": {},
   "outputs": [
    {
     "data": {
      "text/plain": [
       "0.6101694915254238"
      ]
     },
     "execution_count": 24,
     "metadata": {},
     "output_type": "execute_result"
    }
   ],
   "source": [
    "import pandas as pd\n",
    "from sklearn.metrics import f1_score\n",
    "\n",
    "with open(\"data/dev.txt\", \"r\") as file:\n",
    "    predictions = [int(line.strip()) for line in file]\n",
    "\n",
    "df = pd.read_csv(\"data/dev.csv\")\n",
    "df[\"prediction\"] = predictions\n",
    "\n",
    "f1_score(df[\"label\"], df[\"prediction\"], pos_label=1)"
   ]
  },
  {
   "cell_type": "code",
   "execution_count": null,
   "id": "6d206f37-d7fa-44b4-91a5-983dd9e9a9ba",
   "metadata": {},
   "outputs": [],
   "source": []
  }
 ],
 "metadata": {
  "kernelspec": {
   "display_name": "Python 3 (ipykernel)",
   "language": "python",
   "name": "python3"
  },
  "language_info": {
   "codemirror_mode": {
    "name": "ipython",
    "version": 3
   },
   "file_extension": ".py",
   "mimetype": "text/x-python",
   "name": "python",
   "nbconvert_exporter": "python",
   "pygments_lexer": "ipython3",
   "version": "3.13.2"
  }
 },
 "nbformat": 4,
 "nbformat_minor": 5
}
